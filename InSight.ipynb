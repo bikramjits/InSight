{
 "cells": [
  {
   "cell_type": "markdown",
   "metadata": {},
   "source": [
    "# InSight : Market Visualizer"
   ]
  },
  {
   "cell_type": "markdown",
   "metadata": {},
   "source": [
    "## Introduction: "
   ]
  },
  {
   "cell_type": "markdown",
   "metadata": {},
   "source": [
    "### Abstract\n",
    "\n",
    "The aim of this project is to present market data in a way which is optimum for research and distribution. \n",
    "\n",
    "### Technology used\n",
    "\n",
    "* Python 3.2 \n",
    "* NASDAQ Realtime Stock Streaming API \n",
    "* The New York Times Article Search API \n",
    "* JSON \n",
    "* Plotly \n",
    "* Jupyter Notebooks \n",
    "\n",
    "### Benefits and Potential Impacts\n",
    "\n",
    "InSight provides a superior way to view and analyze data, by cutting down on research time and using a powerful algorithm to predict important instances in both past and present data. \n",
    "It harnesses the power of the New York Times and helps the user to establish connections between the Financial World and the Real World. \n",
    "The engine is powerful enough to go beyond financial data and analyze to high accuracy, any data that can be quantified. "
   ]
  },
  {
   "cell_type": "markdown",
   "metadata": {},
   "source": [
    "## Visualizations and Code"
   ]
  },
  {
   "cell_type": "code",
   "execution_count": 1,
   "metadata": {
    "collapsed": true
   },
   "outputs": [],
   "source": [
    "#All the libraries used. \n",
    "from datascience import *\n",
    "import datetime as dt\n",
    "import pandas as pd\n",
    "import numpy as np\n",
    "import websocket\n",
    "import threading\n",
    "import argparse\n",
    "import time\n",
    "import json\n",
    "import requests\n",
    "from time import sleep\n",
    "\n",
    "\n",
    "\n",
    "# These lines set up graphing capabilities.\n",
    "import matplotlib\n",
    "%matplotlib inline\n",
    "import matplotlib.pyplot as plt\n",
    "plt.style.use('fivethirtyeight')\n",
    "import warnings\n",
    "warnings.simplefilter('ignore', FutureWarning)\n",
    "\n",
    "from ipywidgets import interact, interactive, fixed, interact_manual\n",
    "import ipywidgets as widgets"
   ]
  },
  {
   "cell_type": "code",
   "execution_count": 2,
   "metadata": {},
   "outputs": [
    {
     "name": "stderr",
     "output_type": "stream",
     "text": [
      "--- request header ---\n",
      "GET /stream?symbol=AAPL&start=20160101&end=20170202 HTTP/1.1\n",
      "Upgrade: websocket\n",
      "Connection: Upgrade\n",
      "Host: 34.214.11.52\n",
      "Origin: http://34.214.11.52\n",
      "Sec-WebSocket-Key: XA5q6iwSesVxkbYMuTPcJg==\n",
      "Sec-WebSocket-Version: 13\n",
      "\n",
      "\n",
      "-----------------------\n",
      "--- response header ---\n",
      "HTTP/1.1 101 Switching Protocols\n",
      "Content-Length: 0\n",
      "Upgrade: websocket\n",
      "Sec-Websocket-Accept: ntLqnwFAo0GM4UaAGBhYz0qfepw=\n",
      "Server: TornadoServer/4.5.1\n",
      "Connection: Upgrade\n",
      "Date: Sun, 08 Oct 2017 13:18:10 GMT\n",
      "-----------------------\n",
      "send: b'\\x81\\x80\\x06\\xf3\\x9a\\xf6'\n",
      "send: b'\\x88\\x82\\xa8\\xd5g\\xb1\\xab='\n"
     ]
    },
    {
     "name": "stdout",
     "output_type": "stream",
     "text": [
      "### closed ###\n"
     ]
    }
   ],
   "source": [
    "#This command runs the API and generates a '.csv' file of the data for processing. \n",
    "%run nasdaq.py --start_date 20160101 --end_date 20170202 --symbols AAPL"
   ]
  },
  {
   "cell_type": "code",
   "execution_count": 3,
   "metadata": {
    "collapsed": true
   },
   "outputs": [],
   "source": [
    "#Documenting the initial conditions. \n",
    "start = '20160101'\n",
    "end = '20170202'\n",
    "company = 'AAPL'\n",
    "\n",
    "#Gets the name of the company from a database of company names and codes. \n",
    "def getCompany(comp): \n",
    "    comp_tab = Table.read_table('companylist.csv')\n",
    "    return comp_tab.where(0, comp).column(1).item(0)"
   ]
  },
  {
   "cell_type": "code",
   "execution_count": 4,
   "metadata": {
    "collapsed": true
   },
   "outputs": [],
   "source": [
    "#Takes the \"nasdata.csv\" file and generates a table with useful information (Can be altered by the user).\n",
    "raw_data = (Table.read_table(\"nasdata.csv\")).drop(0)"
   ]
  },
  {
   "cell_type": "code",
   "execution_count": 5,
   "metadata": {
    "collapsed": true
   },
   "outputs": [],
   "source": [
    "#Function that helps to get the required date format for The NY Times. \n",
    "def getDate(date): \n",
    "    date=str(date)\n",
    "    return date[0:10].replace(\"-\", \"\")\n",
    "def addOne(date): \n",
    "    return getDate(str((pd.to_datetime(date) + dt.timedelta(days=1))))"
   ]
  },
  {
   "cell_type": "code",
   "execution_count": 6,
   "metadata": {},
   "outputs": [],
   "source": [
    "#Takes particular values from \"raw_data\" to join with the NY Times data\n",
    "nyData = Table().with_columns(\"Date\", raw_data.apply(getDate, 1), \"NextDate\", raw_data.apply(addOne, 1) , \"High\", raw_data.column(\"High\"), \"Low\", raw_data.column(\"Low\"), \"Close\", raw_data.column(\"Close\"))"
   ]
  },
  {
   "cell_type": "code",
   "execution_count": 7,
   "metadata": {},
   "outputs": [],
   "source": [
    "nasvizData = Table().with_columns(\"Date\", pd.to_datetime(raw_data.column(1)), \"High\", raw_data.column(\"High\"), \"Low\", raw_data.column(\"Low\"), \"Close\", raw_data.column(\"Close\"))"
   ]
  },
  {
   "cell_type": "code",
   "execution_count": 8,
   "metadata": {},
   "outputs": [
    {
     "data": {
      "text/html": [
       "<table border=\"1\" class=\"dataframe\">\n",
       "    <thead>\n",
       "        <tr>\n",
       "            <th>Date</th> <th>High</th> <th>Low</th> <th>Close</th>\n",
       "        </tr>\n",
       "    </thead>\n",
       "    <tbody>\n",
       "        <tr>\n",
       "            <td>2016-01-05 00:00:00</td> <td>105.85 </td> <td>102.41</td> <td>102.71</td>\n",
       "        </tr>\n",
       "    </tbody>\n",
       "        <tr>\n",
       "            <td>2016-01-06 00:00:00</td> <td>104.144</td> <td>99.87 </td> <td>100.7 </td>\n",
       "        </tr>\n",
       "    </tbody>\n",
       "        <tr>\n",
       "            <td>2016-01-07 00:00:00</td> <td>104.09 </td> <td>96.43 </td> <td>96.45 </td>\n",
       "        </tr>\n",
       "    </tbody>\n",
       "        <tr>\n",
       "            <td>2016-01-08 00:00:00</td> <td>99.11  </td> <td>96.76 </td> <td>96.96 </td>\n",
       "        </tr>\n",
       "    </tbody>\n",
       "        <tr>\n",
       "            <td>2016-01-11 00:00:00</td> <td>99.06  </td> <td>97.34 </td> <td>98.53 </td>\n",
       "        </tr>\n",
       "    </tbody>\n",
       "        <tr>\n",
       "            <td>2016-01-12 00:00:00</td> <td>100.69 </td> <td>98.83 </td> <td>99.96 </td>\n",
       "        </tr>\n",
       "    </tbody>\n",
       "        <tr>\n",
       "            <td>2016-01-13 00:00:00</td> <td>101.19 </td> <td>97.3  </td> <td>97.39 </td>\n",
       "        </tr>\n",
       "    </tbody>\n",
       "        <tr>\n",
       "            <td>2016-01-14 00:00:00</td> <td>100.48 </td> <td>95.73 </td> <td>99.52 </td>\n",
       "        </tr>\n",
       "    </tbody>\n",
       "        <tr>\n",
       "            <td>2016-01-15 00:00:00</td> <td>99.0857</td> <td>95.36 </td> <td>97.13 </td>\n",
       "        </tr>\n",
       "    </tbody>\n",
       "        <tr>\n",
       "            <td>2016-01-19 00:00:00</td> <td>98.65  </td> <td>95.46 </td> <td>96.66 </td>\n",
       "        </tr>\n",
       "    </tbody>\n",
       "</table>\n",
       "<p>... (263 rows omitted)</p"
      ],
      "text/plain": [
       "Date                | High    | Low    | Close\n",
       "2016-01-05 00:00:00 | 105.85  | 102.41 | 102.71\n",
       "2016-01-06 00:00:00 | 104.144 | 99.87  | 100.7\n",
       "2016-01-07 00:00:00 | 104.09  | 96.43  | 96.45\n",
       "2016-01-08 00:00:00 | 99.11   | 96.76  | 96.96\n",
       "2016-01-11 00:00:00 | 99.06   | 97.34  | 98.53\n",
       "2016-01-12 00:00:00 | 100.69  | 98.83  | 99.96\n",
       "2016-01-13 00:00:00 | 101.19  | 97.3   | 97.39\n",
       "2016-01-14 00:00:00 | 100.48  | 95.73  | 99.52\n",
       "2016-01-15 00:00:00 | 99.0857 | 95.36  | 97.13\n",
       "2016-01-19 00:00:00 | 98.65   | 95.46  | 96.66\n",
       "... (263 rows omitted)"
      ]
     },
     "execution_count": 8,
     "metadata": {},
     "output_type": "execute_result"
    }
   ],
   "source": [
    "nasvizData"
   ]
  },
  {
   "cell_type": "code",
   "execution_count": 9,
   "metadata": {},
   "outputs": [],
   "source": [
    "#Getting the rate of change of values. \n",
    "def get_differential(num): \n",
    "    return np.append([0], np.diff(nasvizData.column(num)))\n",
    "\n",
    "#Modelling here with 'Low' for example.\n",
    "differential = np.append([0], np.diff(nasvizData.column(2)))"
   ]
  },
  {
   "cell_type": "code",
   "execution_count": 10,
   "metadata": {
    "collapsed": true
   },
   "outputs": [],
   "source": [
    "#Creating a table out of the rates. \n",
    "diff_table = Table().with_column(\"date\", nasvizData.column(0), \"diff\", differential, \"abs diff\", abs(differential))\n",
    "diff_table = diff_table.with_columns(\"Thresh\", (max(diff_table.column(2)) - min(diff_table.where(2, are.above(0)).column(2))) / 2)"
   ]
  },
  {
   "cell_type": "code",
   "execution_count": 11,
   "metadata": {},
   "outputs": [
    {
     "data": {
      "text/html": [
       "<table border=\"1\" class=\"dataframe\">\n",
       "    <thead>\n",
       "        <tr>\n",
       "            <th>date</th> <th>High</th> <th>Low</th> <th>Close</th>\n",
       "        </tr>\n",
       "    </thead>\n",
       "    <tbody>\n",
       "        <tr>\n",
       "            <td>2016-04-01 00:00:00</td> <td>110    </td> <td>100.928</td> <td>109.99 </td>\n",
       "        </tr>\n",
       "    </tbody>\n",
       "        <tr>\n",
       "            <td>2016-04-27 00:00:00</td> <td>98.71  </td> <td>95.68  </td> <td>97.82  </td>\n",
       "        </tr>\n",
       "    </tbody>\n",
       "        <tr>\n",
       "            <td>2016-09-16 00:00:00</td> <td>116.13 </td> <td>103.37 </td> <td>114.925</td>\n",
       "        </tr>\n",
       "    </tbody>\n",
       "        <tr>\n",
       "            <td>2016-09-21 00:00:00</td> <td>113.989</td> <td>112.44 </td> <td>113.55 </td>\n",
       "        </tr>\n",
       "    </tbody>\n",
       "        <tr>\n",
       "            <td>2016-10-28 00:00:00</td> <td>115.21 </td> <td>104.61 </td> <td>113.72 </td>\n",
       "        </tr>\n",
       "    </tbody>\n",
       "        <tr>\n",
       "            <td>2016-10-31 00:00:00</td> <td>114.23 </td> <td>113.2  </td> <td>113.54 </td>\n",
       "        </tr>\n",
       "    </tbody>\n",
       "        <tr>\n",
       "            <td>2016-12-19 00:00:00</td> <td>117.38 </td> <td>108.415</td> <td>116.64 </td>\n",
       "        </tr>\n",
       "    </tbody>\n",
       "        <tr>\n",
       "            <td>2017-01-23 00:00:00</td> <td>120.81 </td> <td>105.36 </td> <td>120.08 </td>\n",
       "        </tr>\n",
       "    </tbody>\n",
       "        <tr>\n",
       "            <td>2017-01-24 00:00:00</td> <td>120.1  </td> <td>119.5  </td> <td>119.97 </td>\n",
       "        </tr>\n",
       "    </tbody>\n",
       "        <tr>\n",
       "            <td>2017-02-01 00:00:00</td> <td>130.49 </td> <td>108.313</td> <td>128.75 </td>\n",
       "        </tr>\n",
       "    </tbody>\n",
       "</table>\n",
       "<p>... (1 rows omitted)</p"
      ],
      "text/plain": [
       "date                | High    | Low     | Close\n",
       "2016-04-01 00:00:00 | 110     | 100.928 | 109.99\n",
       "2016-04-27 00:00:00 | 98.71   | 95.68   | 97.82\n",
       "2016-09-16 00:00:00 | 116.13  | 103.37  | 114.925\n",
       "2016-09-21 00:00:00 | 113.989 | 112.44  | 113.55\n",
       "2016-10-28 00:00:00 | 115.21  | 104.61  | 113.72\n",
       "2016-10-31 00:00:00 | 114.23  | 113.2   | 113.54\n",
       "2016-12-19 00:00:00 | 117.38  | 108.415 | 116.64\n",
       "2017-01-23 00:00:00 | 120.81  | 105.36  | 120.08\n",
       "2017-01-24 00:00:00 | 120.1   | 119.5   | 119.97\n",
       "2017-02-01 00:00:00 | 130.49  | 108.313 | 128.75\n",
       "... (1 rows omitted)"
      ]
     },
     "execution_count": 11,
     "metadata": {},
     "output_type": "execute_result"
    }
   ],
   "source": [
    "# A Table that keeps track of the important dates. \n",
    "important_dates = diff_table.where(2, are.above(diff_table.column(3).item(0))).select(0)\n",
    "important_dates = important_dates.join('date', nasvizData, 'Date')\n",
    "important_dates"
   ]
  },
  {
   "cell_type": "code",
   "execution_count": 12,
   "metadata": {},
   "outputs": [
    {
     "data": {
      "text/plain": [
       "(array([ 735995.,  736055.,  736116.,  736177.,  736238.,  736299.,  736361.]),\n",
       " <a list of 7 Text xticklabel objects>)"
      ]
     },
     "execution_count": 12,
     "metadata": {},
     "output_type": "execute_result"
    },
    {
     "data": {
      "image/png": "[encoded data removed]",
      "text/plain": [
       "<matplotlib.figure.Figure at 0x1184c20f0>"
      ]
     },
     "metadata": {},
     "output_type": "display_data"
    }
   ],
   "source": [
    "diff_table.plot(0)\n",
    "plt.xticks(rotation=90)"
   ]
  },
  {
   "cell_type": "code",
   "execution_count": 13,
   "metadata": {},
   "outputs": [
    {
     "data": {
      "text/plain": [
       "(array([ 735995.,  736055.,  736116.,  736177.,  736238.,  736299.,  736361.]),\n",
       " <a list of 7 Text xticklabel objects>)"
      ]
     },
     "execution_count": 13,
     "metadata": {},
     "output_type": "execute_result"
    },
    {
     "data": {
      "image/png": "[encoded data removed]",
      "text/plain": [
       "<matplotlib.figure.Figure at 0x1184c2e80>"
      ]
     },
     "metadata": {},
     "output_type": "display_data"
    }
   ],
   "source": [
    "#Actual graph with incident points marked in Red. \n",
    "nasvizData.drop(1, 3, 4).plot(0)\n",
    "plt.scatter(important_dates.column(0), important_dates.column(2), color = 'red')\n",
    "plt.xticks(rotation=90)"
   ]
  },
  {
   "cell_type": "code",
   "execution_count": 14,
   "metadata": {
    "collapsed": true
   },
   "outputs": [],
   "source": [
    "# Extracting Relevant articles using the New York Times Article Search API. \n",
    "def article_extract(article):\n",
    "    return {'Name': article['headline']['main'],\n",
    "            'URL': article['web_url'],\n",
    "            'Date-Time': article['pub_date'] if 'pub_date' in article else ''\n",
    "\n",
    "    }\n",
    "\n",
    "def article_search(term, begin, end):\n",
    "    data_search = (requests.get\n",
    "                   (\"https://api.nytimes.com/svc/search/v2/articlesearch.json?api-key=28ec5f20ab074501b55d83ea93cec91b&q=%s&begin_date=%s&end_date=%s\"%\n",
    "                    (term, begin, end)))\n",
    "    return article_extract(data_search.json()['response']['docs'][0])"
   ]
  },
  {
   "cell_type": "code",
   "execution_count": 15,
   "metadata": {},
   "outputs": [
    {
     "data": {
      "text/plain": [
       "{'Date-Time': '2017-08-09T09:13:41+0000',\n",
       " 'Name': 'Google’s War Over the Sexes',\n",
       " 'URL': 'https://www.nytimes.com/2017/08/09/opinion/google-women-memo.html'}"
      ]
     },
     "execution_count": 15,
     "metadata": {},
     "output_type": "execute_result"
    }
   ],
   "source": [
    "#Example of what an Article Search Returns. \n",
    "\n",
    "article_search('apple', \"20170809\", \"20170810\")"
   ]
  },
  {
   "cell_type": "code",
   "execution_count": 16,
   "metadata": {},
   "outputs": [
    {
     "data": {
      "text/html": [
       "<table border=\"1\" class=\"dataframe\">\n",
       "    <thead>\n",
       "        <tr>\n",
       "            <th>Date</th> <th>High</th> <th>Low</th> <th>Close</th>\n",
       "        </tr>\n",
       "    </thead>\n",
       "    <tbody>\n",
       "        <tr>\n",
       "            <td>20160401</td> <td>110    </td> <td>100.928</td> <td>109.99 </td>\n",
       "        </tr>\n",
       "    </tbody>\n",
       "        <tr>\n",
       "            <td>20160427</td> <td>98.71  </td> <td>95.68  </td> <td>97.82  </td>\n",
       "        </tr>\n",
       "    </tbody>\n",
       "        <tr>\n",
       "            <td>20160916</td> <td>116.13 </td> <td>103.37 </td> <td>114.925</td>\n",
       "        </tr>\n",
       "    </tbody>\n",
       "        <tr>\n",
       "            <td>20160921</td> <td>113.989</td> <td>112.44 </td> <td>113.55 </td>\n",
       "        </tr>\n",
       "    </tbody>\n",
       "        <tr>\n",
       "            <td>20161028</td> <td>115.21 </td> <td>104.61 </td> <td>113.72 </td>\n",
       "        </tr>\n",
       "    </tbody>\n",
       "        <tr>\n",
       "            <td>20161031</td> <td>114.23 </td> <td>113.2  </td> <td>113.54 </td>\n",
       "        </tr>\n",
       "    </tbody>\n",
       "        <tr>\n",
       "            <td>20161219</td> <td>117.38 </td> <td>108.415</td> <td>116.64 </td>\n",
       "        </tr>\n",
       "    </tbody>\n",
       "        <tr>\n",
       "            <td>20170123</td> <td>120.81 </td> <td>105.36 </td> <td>120.08 </td>\n",
       "        </tr>\n",
       "    </tbody>\n",
       "        <tr>\n",
       "            <td>20170124</td> <td>120.1  </td> <td>119.5  </td> <td>119.97 </td>\n",
       "        </tr>\n",
       "    </tbody>\n",
       "        <tr>\n",
       "            <td>20170201</td> <td>130.49 </td> <td>108.313</td> <td>128.75 </td>\n",
       "        </tr>\n",
       "    </tbody>\n",
       "</table>\n",
       "<p>... (1 rows omitted)</p"
      ],
      "text/plain": [
       "Date     | High    | Low     | Close\n",
       "20160401 | 110     | 100.928 | 109.99\n",
       "20160427 | 98.71   | 95.68   | 97.82\n",
       "20160916 | 116.13  | 103.37  | 114.925\n",
       "20160921 | 113.989 | 112.44  | 113.55\n",
       "20161028 | 115.21  | 104.61  | 113.72\n",
       "20161031 | 114.23  | 113.2   | 113.54\n",
       "20161219 | 117.38  | 108.415 | 116.64\n",
       "20170123 | 120.81  | 105.36  | 120.08\n",
       "20170124 | 120.1   | 119.5   | 119.97\n",
       "20170201 | 130.49  | 108.313 | 128.75\n",
       "... (1 rows omitted)"
      ]
     },
     "execution_count": 16,
     "metadata": {},
     "output_type": "execute_result"
    }
   ],
   "source": [
    "# Tuning the important_dates Table to fit the format used by the New York Times Article Search API. \n",
    "\n",
    "important_dates_tweaked = Table().with_columns(\"Date\", important_dates.apply(getDate, 0), \"High\", important_dates.column(\"High\"), \"Low\", important_dates.column(\"Low\"), \"Close\", important_dates.column(\"Close\"))\n",
    "important_dates_tweaked"
   ]
  },
  {
   "cell_type": "code",
   "execution_count": 17,
   "metadata": {},
   "outputs": [
    {
     "data": {
      "text/html": [
       "<table border=\"1\" class=\"dataframe\">\n",
       "    <thead>\n",
       "        <tr>\n",
       "            <th>Date</th> <th>High</th> <th>Low</th> <th>Close</th> <th>NextDate</th>\n",
       "        </tr>\n",
       "    </thead>\n",
       "    <tbody>\n",
       "        <tr>\n",
       "            <td>20160401</td> <td>110    </td> <td>100.928</td> <td>109.99 </td> <td>20160402</td>\n",
       "        </tr>\n",
       "    </tbody>\n",
       "        <tr>\n",
       "            <td>20160427</td> <td>98.71  </td> <td>95.68  </td> <td>97.82  </td> <td>20160428</td>\n",
       "        </tr>\n",
       "    </tbody>\n",
       "        <tr>\n",
       "            <td>20160916</td> <td>116.13 </td> <td>103.37 </td> <td>114.925</td> <td>20160917</td>\n",
       "        </tr>\n",
       "    </tbody>\n",
       "        <tr>\n",
       "            <td>20160921</td> <td>113.989</td> <td>112.44 </td> <td>113.55 </td> <td>20160922</td>\n",
       "        </tr>\n",
       "    </tbody>\n",
       "        <tr>\n",
       "            <td>20161028</td> <td>115.21 </td> <td>104.61 </td> <td>113.72 </td> <td>20161029</td>\n",
       "        </tr>\n",
       "    </tbody>\n",
       "        <tr>\n",
       "            <td>20161031</td> <td>114.23 </td> <td>113.2  </td> <td>113.54 </td> <td>20161101</td>\n",
       "        </tr>\n",
       "    </tbody>\n",
       "        <tr>\n",
       "            <td>20161219</td> <td>117.38 </td> <td>108.415</td> <td>116.64 </td> <td>20161220</td>\n",
       "        </tr>\n",
       "    </tbody>\n",
       "        <tr>\n",
       "            <td>20170123</td> <td>120.81 </td> <td>105.36 </td> <td>120.08 </td> <td>20170124</td>\n",
       "        </tr>\n",
       "    </tbody>\n",
       "        <tr>\n",
       "            <td>20170124</td> <td>120.1  </td> <td>119.5  </td> <td>119.97 </td> <td>20170125</td>\n",
       "        </tr>\n",
       "    </tbody>\n",
       "        <tr>\n",
       "            <td>20170201</td> <td>130.49 </td> <td>108.313</td> <td>128.75 </td> <td>20170202</td>\n",
       "        </tr>\n",
       "    </tbody>\n",
       "</table>\n",
       "<p>... (1 rows omitted)</p"
      ],
      "text/plain": [
       "Date     | High    | Low     | Close   | NextDate\n",
       "20160401 | 110     | 100.928 | 109.99  | 20160402\n",
       "20160427 | 98.71   | 95.68   | 97.82   | 20160428\n",
       "20160916 | 116.13  | 103.37  | 114.925 | 20160917\n",
       "20160921 | 113.989 | 112.44  | 113.55  | 20160922\n",
       "20161028 | 115.21  | 104.61  | 113.72  | 20161029\n",
       "20161031 | 114.23  | 113.2   | 113.54  | 20161101\n",
       "20161219 | 117.38  | 108.415 | 116.64  | 20161220\n",
       "20170123 | 120.81  | 105.36  | 120.08  | 20170124\n",
       "20170124 | 120.1   | 119.5   | 119.97  | 20170125\n",
       "20170201 | 130.49  | 108.313 | 128.75  | 20170202\n",
       "... (1 rows omitted)"
      ]
     },
     "execution_count": 17,
     "metadata": {},
     "output_type": "execute_result"
    }
   ],
   "source": [
    "#The Final Table after all the computation is finished. \n",
    "\n",
    "final = important_dates_tweaked.join('Date', nyData, 'Date').drop(5, 6, 7)\n",
    "final"
   ]
  },
  {
   "cell_type": "code",
   "execution_count": 19,
   "metadata": {},
   "outputs": [
    {
     "data": {
      "text/plain": [
       "[{'Date-Time': '2016-04-02T00:00:00Z',\n",
       "  'Name': 'Moving CD-Ripped Music From the Computer to the iPad',\n",
       "  'URL': 'https://www.nytimes.com/2016/04/02/technology/personaltech/moving-cd-ripped-music-from-the-computer-to-the-ipad.html'},\n",
       " {'Date-Time': '2016-04-28T00:00:00Z',\n",
       "  'Name': 'Turning Down an OS X Upgrade',\n",
       "  'URL': 'https://www.nytimes.com/2016/04/28/technology/personaltech/turning-down-an-os-x-upgrade.html'},\n",
       " {'Date-Time': '2016-09-16T06:08:22Z',\n",
       "  'Name': 'Apple Tax Row Raises $2.1 Trillion Question for Forex Traders',\n",
       "  'URL': 'https://www.nytimes.com/reuters/2016/09/16/business/16reuters-global-forex-tax.html'},\n",
       " {'Date-Time': '2016-09-21T04:00:00+0000',\n",
       "  'Name': 'How Tesla and Apple Could Be Good for Each Other',\n",
       "  'URL': 'https://www.nytimes.com/2016/09/21/business/dealbook/how-tesla-and-apple-could-be-good-for-each-other.html'},\n",
       " {'Date-Time': '2016-10-28T17:13:30+0000',\n",
       "  'Name': 'Review: ‘To Pixar and Beyond’ Plumbs New Depth in Oft-Told Tale',\n",
       "  'URL': 'https://www.nytimes.com/2016/10/29/business/dealbook/review-to-pixar-and-beyond-plumbs-new-depth-in-oft-told-tale.html'},\n",
       " {'Date-Time': '2016-10-31T16:31:10+0000',\n",
       "  'Name': 'Daily Report: Google’s Day in Europe’s Court Highlights Nature of New Tech',\n",
       "  'URL': 'https://www.nytimes.com/2016/11/01/technology/daily-report-googles-day-in-europes-court-highlights-nature-of-new-tech.html'},\n",
       " {'Date-Time': '2016-12-19T00:59:57+0000',\n",
       "  'Name': 'By Attacking the Press, Donald Trump May Be Doing It a Favor',\n",
       "  'URL': 'https://www.nytimes.com/2016/12/18/business/media/by-attacking-the-press-donald-trump-may-be-doing-it-a-favor.html'},\n",
       " {'Date-Time': '2017-01-23T16:12:52+0000',\n",
       "  'Name': 'Fighting iPhone Battery Life Blues',\n",
       "  'URL': 'https://www.nytimes.com/2017/01/23/technology/personaltech/fighting-the-iphone-battery-blues.html'},\n",
       " {'Date-Time': '2017-01-24T05:00:00+0000',\n",
       "  'Name': 'A Little Nostalgia, a Long Fork and Lots of Cheese',\n",
       "  'URL': 'https://cooking.nytimes.com/recipes/1018557-sweet-gorgonzola-fondue'},\n",
       " {'Date-Time': '2017-02-01T17:24:07+0000',\n",
       "  'Name': 'Daily Report: At Apple, Triumphs Amid Tribulations',\n",
       "  'URL': 'https://www.nytimes.com/2017/02/01/technology/daily-report-at-apple-triumphs-amid-tribulations.html'},\n",
       " {'Date-Time': '2017-02-02T17:15:45+0000',\n",
       "  'Name': 'Solving the Case of the Mac’s Disappearing Scroll Bars',\n",
       "  'URL': 'https://www.nytimes.com/2017/02/02/technology/personaltech/solving-the-case-of-the-disappearing-scroll-bars.html'}]"
      ]
     },
     "execution_count": 19,
     "metadata": {},
     "output_type": "execute_result"
    }
   ],
   "source": [
    "#The Articles recieved after implementing the API. \n",
    "\n",
    "head=[]\n",
    "for i in np.arange(final.num_rows):\n",
    "    head[len(head):] = [article_search(getCompany(company), final.column(0)[i], final.column(4)[i])]\n",
    "    sleep(1)\n",
    "head"
   ]
  },
  {
   "cell_type": "code",
   "execution_count": 20,
   "metadata": {},
   "outputs": [
    {
     "data": {
      "text/html": [
       "<div>\n",
       "<style>\n",
       "    .dataframe thead tr:only-child th {\n",
       "        text-align: right;\n",
       "    }\n",
       "\n",
       "    .dataframe thead th {\n",
       "        text-align: left;\n",
       "    }\n",
       "\n",
       "    .dataframe tbody tr th {\n",
       "        vertical-align: top;\n",
       "    }\n",
       "</style>\n",
       "<table border=\"1\" class=\"dataframe\">\n",
       "  <thead>\n",
       "    <tr style=\"text-align: right;\">\n",
       "      <th></th>\n",
       "      <th>Date-Time</th>\n",
       "      <th>Name</th>\n",
       "      <th>URL</th>\n",
       "    </tr>\n",
       "  </thead>\n",
       "  <tbody>\n",
       "    <tr>\n",
       "      <th>0</th>\n",
       "      <td>2016-04-02T00:00:00Z</td>\n",
       "      <td>Moving CD-Ripped Music From the Computer to th...</td>\n",
       "      <td>https://www.nytimes.com/2016/04/02/technology/...</td>\n",
       "    </tr>\n",
       "    <tr>\n",
       "      <th>1</th>\n",
       "      <td>2016-04-28T00:00:00Z</td>\n",
       "      <td>Turning Down an OS X Upgrade</td>\n",
       "      <td>https://www.nytimes.com/2016/04/28/technology/...</td>\n",
       "    </tr>\n",
       "    <tr>\n",
       "      <th>2</th>\n",
       "      <td>2016-09-16T06:08:22Z</td>\n",
       "      <td>Apple Tax Row Raises $2.1 Trillion Question fo...</td>\n",
       "      <td>https://www.nytimes.com/reuters/2016/09/16/bus...</td>\n",
       "    </tr>\n",
       "    <tr>\n",
       "      <th>3</th>\n",
       "      <td>2016-09-21T04:00:00+0000</td>\n",
       "      <td>How Tesla and Apple Could Be Good for Each Other</td>\n",
       "      <td>https://www.nytimes.com/2016/09/21/business/de...</td>\n",
       "    </tr>\n",
       "    <tr>\n",
       "      <th>4</th>\n",
       "      <td>2016-10-28T17:13:30+0000</td>\n",
       "      <td>Review: ‘To Pixar and Beyond’ Plumbs New Depth...</td>\n",
       "      <td>https://www.nytimes.com/2016/10/29/business/de...</td>\n",
       "    </tr>\n",
       "    <tr>\n",
       "      <th>5</th>\n",
       "      <td>2016-10-31T16:31:10+0000</td>\n",
       "      <td>Daily Report: Google’s Day in Europe’s Court H...</td>\n",
       "      <td>https://www.nytimes.com/2016/11/01/technology/...</td>\n",
       "    </tr>\n",
       "    <tr>\n",
       "      <th>6</th>\n",
       "      <td>2016-12-19T00:59:57+0000</td>\n",
       "      <td>By Attacking the Press, Donald Trump May Be Do...</td>\n",
       "      <td>https://www.nytimes.com/2016/12/18/business/me...</td>\n",
       "    </tr>\n",
       "    <tr>\n",
       "      <th>7</th>\n",
       "      <td>2017-01-23T16:12:52+0000</td>\n",
       "      <td>Fighting iPhone Battery Life Blues</td>\n",
       "      <td>https://www.nytimes.com/2017/01/23/technology/...</td>\n",
       "    </tr>\n",
       "    <tr>\n",
       "      <th>8</th>\n",
       "      <td>2017-01-24T05:00:00+0000</td>\n",
       "      <td>A Little Nostalgia, a Long Fork and Lots of Ch...</td>\n",
       "      <td>https://cooking.nytimes.com/recipes/1018557-sw...</td>\n",
       "    </tr>\n",
       "    <tr>\n",
       "      <th>9</th>\n",
       "      <td>2017-02-01T17:24:07+0000</td>\n",
       "      <td>Daily Report: At Apple, Triumphs Amid Tribulat...</td>\n",
       "      <td>https://www.nytimes.com/2017/02/01/technology/...</td>\n",
       "    </tr>\n",
       "    <tr>\n",
       "      <th>10</th>\n",
       "      <td>2017-02-02T17:15:45+0000</td>\n",
       "      <td>Solving the Case of the Mac’s Disappearing Scr...</td>\n",
       "      <td>https://www.nytimes.com/2017/02/02/technology/...</td>\n",
       "    </tr>\n",
       "  </tbody>\n",
       "</table>\n",
       "</div>"
      ],
      "text/plain": [
       "                   Date-Time  \\\n",
       "0       2016-04-02T00:00:00Z   \n",
       "1       2016-04-28T00:00:00Z   \n",
       "2       2016-09-16T06:08:22Z   \n",
       "3   2016-09-21T04:00:00+0000   \n",
       "4   2016-10-28T17:13:30+0000   \n",
       "5   2016-10-31T16:31:10+0000   \n",
       "6   2016-12-19T00:59:57+0000   \n",
       "7   2017-01-23T16:12:52+0000   \n",
       "8   2017-01-24T05:00:00+0000   \n",
       "9   2017-02-01T17:24:07+0000   \n",
       "10  2017-02-02T17:15:45+0000   \n",
       "\n",
       "                                                 Name  \\\n",
       "0   Moving CD-Ripped Music From the Computer to th...   \n",
       "1                        Turning Down an OS X Upgrade   \n",
       "2   Apple Tax Row Raises $2.1 Trillion Question fo...   \n",
       "3    How Tesla and Apple Could Be Good for Each Other   \n",
       "4   Review: ‘To Pixar and Beyond’ Plumbs New Depth...   \n",
       "5   Daily Report: Google’s Day in Europe’s Court H...   \n",
       "6   By Attacking the Press, Donald Trump May Be Do...   \n",
       "7                  Fighting iPhone Battery Life Blues   \n",
       "8   A Little Nostalgia, a Long Fork and Lots of Ch...   \n",
       "9   Daily Report: At Apple, Triumphs Amid Tribulat...   \n",
       "10  Solving the Case of the Mac’s Disappearing Scr...   \n",
       "\n",
       "                                                  URL  \n",
       "0   https://www.nytimes.com/2016/04/02/technology/...  \n",
       "1   https://www.nytimes.com/2016/04/28/technology/...  \n",
       "2   https://www.nytimes.com/reuters/2016/09/16/bus...  \n",
       "3   https://www.nytimes.com/2016/09/21/business/de...  \n",
       "4   https://www.nytimes.com/2016/10/29/business/de...  \n",
       "5   https://www.nytimes.com/2016/11/01/technology/...  \n",
       "6   https://www.nytimes.com/2016/12/18/business/me...  \n",
       "7   https://www.nytimes.com/2017/01/23/technology/...  \n",
       "8   https://cooking.nytimes.com/recipes/1018557-sw...  \n",
       "9   https://www.nytimes.com/2017/02/01/technology/...  \n",
       "10  https://www.nytimes.com/2017/02/02/technology/...  "
      ]
     },
     "execution_count": 20,
     "metadata": {},
     "output_type": "execute_result"
    }
   ],
   "source": [
    "#Tabulation for the interactive plot. \n",
    "\n",
    "final_head = pd.DataFrame.from_dict(head)\n",
    "headlines=make_array()\n",
    "for i in np.arange(final.num_rows):\n",
    "    headline= final_head.as_matrix(columns=final_head.columns[1:])[i][0]\n",
    "    headlines= np.append(headlines, headline)\n",
    "# final_head.iloc[:,1]\n",
    "URLS=make_array()\n",
    "for i in np.arange(final.num_rows):\n",
    "    URL= final_head.as_matrix(columns=final_head.columns[1:])[i][1]\n",
    "    URLS= np.append(URLS, URL)\n",
    "final_head"
   ]
  },
  {
   "cell_type": "code",
   "execution_count": 21,
   "metadata": {},
   "outputs": [
    {
     "name": "stdout",
     "output_type": "stream",
     "text": [
      "High five! You successfully sent some data to your account on plotly. View your plot in your browser at https://plot.ly/~gaurav98m/0 or inside your plot.ly account where it is named 'basic-line'\n"
     ]
    },
    {
     "data": {
      "text/html": [
       "<iframe id=\"igraph\" scrolling=\"no\" style=\"border:none;\" seamless=\"seamless\" src=\"https://plot.ly/~gaurav98m/0.embed\" height=\"525px\" width=\"100%\"></iframe>"
      ],
      "text/plain": [
       "<plotly.tools.PlotlyDisplay object>"
      ]
     },
     "execution_count": 21,
     "metadata": {},
     "output_type": "execute_result"
    }
   ],
   "source": [
    "#The Interactive Plot and URLs. \n",
    "\n",
    "import plotly.plotly as py\n",
    "import plotly \n",
    "import plotly.graph_objs as go\n",
    "plotly.tools.set_credentials_file(username='gaurav98m', api_key='9ZRh4HFPJ8wE5e5GBOzX')\n",
    "\n",
    "# Create random data with numpy\n",
    "# import numpy as np\n",
    "\n",
    "# N = 500\n",
    "# random_x = np.linspace(0, 1, N)\n",
    "# random_y = np.random.randn(N)\n",
    "\n",
    "# Create a trace\n",
    "trace = go.Scatter(\n",
    "    x = nasvizData.column(0),\n",
    "    y = nasvizData.column(2)\n",
    "#     hoverinfo='none'\n",
    ")\n",
    "\n",
    "trace2 = go.Scatter(\n",
    "    x = important_dates.column(0),\n",
    "    y = important_dates.column(2),\n",
    "    mode='markers',\n",
    "    name='Lines, Markers and Text',\n",
    "    text=headlines,\n",
    "    textposition='top'\n",
    ")\n",
    "\n",
    "data = [trace, trace2]\n",
    "\n",
    "py.iplot(data, filename='basic-line')\n",
    "\n"
   ]
  },
  {
   "cell_type": "code",
   "execution_count": 22,
   "metadata": {},
   "outputs": [
    {
     "name": "stdout",
     "output_type": "stream",
     "text": [
      "https://www.nytimes.com/2016/04/02/technology/personaltech/moving-cd-ripped-music-from-the-computer-to-the-ipad.html\n",
      "https://www.nytimes.com/2016/04/28/technology/personaltech/turning-down-an-os-x-upgrade.html\n",
      "https://www.nytimes.com/reuters/2016/09/16/business/16reuters-global-forex-tax.html\n",
      "https://www.nytimes.com/2016/09/21/business/dealbook/how-tesla-and-apple-could-be-good-for-each-other.html\n",
      "https://www.nytimes.com/2016/10/29/business/dealbook/review-to-pixar-and-beyond-plumbs-new-depth-in-oft-told-tale.html\n",
      "https://www.nytimes.com/2016/11/01/technology/daily-report-googles-day-in-europes-court-highlights-nature-of-new-tech.html\n",
      "https://www.nytimes.com/2016/12/18/business/media/by-attacking-the-press-donald-trump-may-be-doing-it-a-favor.html\n",
      "https://www.nytimes.com/2017/01/23/technology/personaltech/fighting-the-iphone-battery-blues.html\n",
      "https://cooking.nytimes.com/recipes/1018557-sweet-gorgonzola-fondue\n",
      "https://www.nytimes.com/2017/02/01/technology/daily-report-at-apple-triumphs-amid-tribulations.html\n",
      "https://www.nytimes.com/2017/02/02/technology/personaltech/solving-the-case-of-the-disappearing-scroll-bars.html\n"
     ]
    }
   ],
   "source": [
    "for url in URLS: \n",
    "    print(url)"
   ]
  }
 ],
 "metadata": {
  "anaconda-cloud": {},
  "kernelspec": {
   "display_name": "Python 3",
   "language": "python",
   "name": "python3"
  },
  "language_info": {
   "codemirror_mode": {
    "name": "ipython",
    "version": 3
   },
   "file_extension": ".py",
   "mimetype": "text/x-python",
   "name": "python",
   "nbconvert_exporter": "python",
   "pygments_lexer": "ipython3",
   "version": "3.6.1"
  }
 },
 "nbformat": 4,
 "nbformat_minor": 2
}
